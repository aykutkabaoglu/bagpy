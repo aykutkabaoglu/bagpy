{
 "cells": [
  {
   "cell_type": "code",
   "execution_count": null,
   "metadata": {},
   "outputs": [],
   "source": [
    "from bagpy import bagreader"
   ]
  },
  {
   "cell_type": "code",
   "execution_count": null,
   "metadata": {},
   "outputs": [],
   "source": [
    "b = bagreader('/home/aykut/2023-08_bsh_bag/2023-07-12_15-28-02_px4_20230523T213102.107500_capraz_rtl.bag')"
   ]
  },
  {
   "cell_type": "code",
   "execution_count": null,
   "metadata": {},
   "outputs": [],
   "source": [
    "plot_dict = {\n",
    "             \"/mavros/local_position/pose\": [\"pose.position.x\", \"pose.position.y\"],\n",
    "             \"/ekf/laser/odom\": [\"pose.pose.position.x\", \"pose.pose.position.y\"],\n",
    "             \"/mavros/distance_sensor/hrlv_ez4_pub\": [\"range\"],\n",
    "             }\n",
    "b.plot(plot_dict)"
   ]
  },
  {
   "cell_type": "code",
   "execution_count": null,
   "metadata": {},
   "outputs": [],
   "source": [
    "plot2_dict = { \"/ekf/laser/odom/status\": [\"data\"],\n",
    "    \"/height_estimation\": [\"data\"],\n",
    "    \"/obj_found\": [\"data\"]\n",
    "}\n",
    "b.plot(plot2_dict)"
   ]
  },
  {
   "cell_type": "code",
   "execution_count": null,
   "metadata": {},
   "outputs": [],
   "source": [
    "plot3_dict = {\n",
    "             \"/mavros/local_position/pose\": [\"Roll\", \"Pitch\",\"Yaw\"],\n",
    "             \"/ekf/laser/odom\":[\"Roll\", \"Pitch\",\"Yaw\"]\n",
    "             }\n",
    "b.plot(plot3_dict)"
   ]
  },
  {
   "cell_type": "code",
   "execution_count": null,
   "metadata": {},
   "outputs": [],
   "source": [
    "b.topic_table"
   ]
  },
  {
   "cell_type": "code",
   "execution_count": null,
   "metadata": {},
   "outputs": [],
   "source": [
    "b.get_same_type_of_topics(\"nav_msgs/Odometry\")"
   ]
  },
  {
   "cell_type": "code",
   "execution_count": null,
   "metadata": {},
   "outputs": [],
   "source": [
    "b.message_by_topic(\"/mavros/local_position/pose\")\n",
    "b.message_by_topic(\"/ekf/laser/odom/status\")\n",
    "b.bag_df_dict[\"/ekf/laser/odom/status\"]"
   ]
  },
  {
   "cell_type": "code",
   "execution_count": null,
   "metadata": {},
   "outputs": [],
   "source": [
    "newmsg = b.message_by_topic(topic='/mavros/local_position/pose')\n",
    "newmsg"
   ]
  }
 ],
 "metadata": {
  "kernelspec": {
   "display_name": "Python 3 (ipykernel)",
   "language": "python",
   "name": "python3"
  },
  "language_info": {
   "codemirror_mode": {
    "name": "ipython",
    "version": 3
   },
   "file_extension": ".py",
   "mimetype": "text/x-python",
   "name": "python",
   "nbconvert_exporter": "python",
   "pygments_lexer": "ipython3",
   "version": "3.6.9"
  }
 },
 "nbformat": 4,
 "nbformat_minor": 2
}
